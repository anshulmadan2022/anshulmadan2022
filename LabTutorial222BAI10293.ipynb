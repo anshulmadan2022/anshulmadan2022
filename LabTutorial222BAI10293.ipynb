{
  "nbformat": 4,
  "nbformat_minor": 0,
  "metadata": {
    "colab": {
      "provenance": [],
      "toc_visible": true,
      "authorship_tag": "ABX9TyMpmNqXdEO4QWCWcILkF/GP",
      "include_colab_link": true
    },
    "kernelspec": {
      "name": "python3",
      "display_name": "Python 3"
    },
    "language_info": {
      "name": "python"
    }
  },
  "cells": [
    {
      "cell_type": "markdown",
      "metadata": {
        "id": "view-in-github",
        "colab_type": "text"
      },
      "source": [
        "<a href=\"https://colab.research.google.com/github/anshulmadan2022/anshulmadan2022/blob/main/LabTutorial222BAI10293.ipynb\" target=\"_parent\"><img src=\"https://colab.research.google.com/assets/colab-badge.svg\" alt=\"Open In Colab\"/></a>"
      ]
    },
    {
      "cell_type": "markdown",
      "source": [
        "LAB ASSIGNMENT 22BAI10293\n",
        "q1. How do you implement a basic perceptron model in Python for binary classification tasks like logic gates?\n"
      ],
      "metadata": {
        "id": "ed-xdQPSz7kA"
      }
    },
    {
      "cell_type": "code",
      "execution_count": 1,
      "metadata": {
        "colab": {
          "base_uri": "https://localhost:8080/"
        },
        "id": "3aUIzIPbwJMw",
        "outputId": "d1391850-806f-4f1e-d91e-b71412edfa57"
      },
      "outputs": [
        {
          "output_type": "stream",
          "name": "stdout",
          "text": [
            "Input: [0 0], Prediction: 0\n",
            "Input: [0 1], Prediction: 0\n",
            "Input: [1 0], Prediction: 0\n",
            "Input: [1 1], Prediction: 1\n"
          ]
        }
      ],
      "source": [
        "import numpy as np\n",
        "\n",
        "class Perceptron:\n",
        "    def __init__(self, input_size, learning_rate=0.1, epochs=100):\n",
        "        self.weights = np.zeros(input_size + 1)  # +1 for bias\n",
        "        self.learning_rate = learning_rate\n",
        "        self.epochs = epochs\n",
        "\n",
        "    def activate(self, x):\n",
        "        return 1 if x >= 0 else 0\n",
        "\n",
        "    def predict(self, inputs):\n",
        "        summation = np.dot(inputs, self.weights[1:]) + self.weights[0]\n",
        "        return self.activate(summation)\n",
        "\n",
        "    def train(self, training_inputs, labels):\n",
        "        for _ in range(self.epochs):\n",
        "            for inputs, label in zip(training_inputs, labels):\n",
        "                prediction = self.predict(inputs)\n",
        "                self.weights[1:] += self.learning_rate * (label - prediction) * inputs\n",
        "                self.weights[0] += self.learning_rate * (label - prediction)\n",
        "\n",
        "X = np.array([[0, 0], [0, 1], [1, 0], [1, 1]])\n",
        "y = np.array([0, 0, 0, 1])\n",
        "\n",
        "perceptron = Perceptron(input_size=2)\n",
        "perceptron.train(X, y)\n",
        "\n",
        "for inputs in X:\n",
        "    print(f\"Input: {inputs}, Prediction: {perceptron.predict(inputs)}\")"
      ]
    },
    {
      "cell_type": "markdown",
      "source": [
        "q2.  How can you represent the AND logic gate using a single-layer perceptron in Python? What are the necessary weights and biases?"
      ],
      "metadata": {
        "id": "KhWXe_u20GPs"
      }
    },
    {
      "cell_type": "markdown",
      "source": [],
      "metadata": {
        "id": "lhQmxDLNz5K4"
      }
    },
    {
      "cell_type": "code",
      "source": [
        "import numpy as np\n",
        "\n",
        "def step_function(x):\n",
        "    return 1 if x >= 0 else 0\n",
        "\n",
        "class Perceptron:\n",
        "    def __init__(self, weights, bias):\n",
        "        self.weights = weights\n",
        "        self.bias = bias\n",
        "\n",
        "    def predict(self, inputs):\n",
        "        sum = np.dot(self.weights, inputs) + self.bias\n",
        "        return step_function(sum)\n",
        "\n",
        "weights = np.array([1, 1])\n",
        "bias = -1.5\n",
        "\n",
        "and_gate = Perceptron(weights, bias)\n",
        "\n",
        "print(\"0 AND 0 =\", and_gate.predict([0, 0]))\n",
        "print(\"0 AND 1 =\", and_gate.predict([0, 1]))\n",
        "print(\"1 AND 0 =\", and_gate.predict([1, 0]))\n",
        "print(\"1 AND 1 =\", and_gate.predict([1, 1]))"
      ],
      "metadata": {
        "colab": {
          "base_uri": "https://localhost:8080/"
        },
        "id": "7HbfiHiSwWPW",
        "outputId": "87e84df8-1fc9-4dcb-ac12-671481fedf97"
      },
      "execution_count": 2,
      "outputs": [
        {
          "output_type": "stream",
          "name": "stdout",
          "text": [
            "0 AND 0 = 0\n",
            "0 AND 1 = 0\n",
            "1 AND 0 = 0\n",
            "1 AND 1 = 1\n"
          ]
        }
      ]
    },
    {
      "cell_type": "markdown",
      "source": [
        "q3. How do you train a perceptron to simulate the OR logic gate in Python using manual weight updates based on the perceptron learning rule?"
      ],
      "metadata": {
        "id": "gyHRXoYD0VEF"
      }
    },
    {
      "cell_type": "code",
      "source": [
        "import numpy as np\n",
        "\n",
        "def step_function(x):\n",
        "    return 1 if x >= 0 else 0\n",
        "\n",
        "class Perceptron:\n",
        "    def __init__(self, num_inputs):\n",
        "        self.weights = np.random.randn(num_inputs)\n",
        "        self.bias = np.random.randn()\n",
        "\n",
        "    def predict(self, inputs):\n",
        "        sum = np.dot(self.weights, inputs) + self.bias\n",
        "        return step_function(sum)\n",
        "\n",
        "    def train(self, training_inputs, labels, learning_rate, epochs):\n",
        "        for _ in range(epochs):\n",
        "            for inputs, label in zip(training_inputs, labels):\n",
        "                prediction = self.predict(inputs)\n",
        "                error = label - prediction\n",
        "\n",
        "                self.weights += learning_rate * error * np.array(inputs)\n",
        "                self.bias += learning_rate * error\n",
        "\n",
        "training_inputs = np.array([[0, 0], [0, 1], [1, 0], [1, 1]])\n",
        "labels = np.array([0, 1, 1, 1])\n",
        "\n",
        "or_gate = Perceptron(num_inputs=2)\n",
        "or_gate.train(training_inputs, labels, learning_rate=0.1, epochs=100)\n",
        "\n",
        "print(\"Weights after training:\", or_gate.weights)\n",
        "print(\"Bias after training:\", or_gate.bias)\n",
        "print(\"\\nTesting the trained OR gate:\")\n",
        "print(\"0 OR 0 =\", or_gate.predict([0, 0]))\n",
        "print(\"0 OR 1 =\", or_gate.predict([0, 1]))\n",
        "print(\"1 OR 0 =\", or_gate.predict([1, 0]))\n",
        "print(\"1 OR 1 =\", or_gate.predict([1, 1]))"
      ],
      "metadata": {
        "colab": {
          "base_uri": "https://localhost:8080/"
        },
        "id": "WzFZ9McSxuYy",
        "outputId": "9a2e9230-6ed5-4460-aff0-7a035aa9ba34"
      },
      "execution_count": 3,
      "outputs": [
        {
          "output_type": "stream",
          "name": "stdout",
          "text": [
            "Weights after training: [0.11383663 0.77852088]\n",
            "Bias after training: -0.047556482141218104\n",
            "\n",
            "Testing the trained OR gate:\n",
            "0 OR 0 = 0\n",
            "0 OR 1 = 1\n",
            "1 OR 0 = 1\n",
            "1 OR 1 = 1\n"
          ]
        }
      ]
    },
    {
      "cell_type": "markdown",
      "source": [
        "q4. What modifications are required in a perceptron model to implement the XOR logic gate, and why can't a single-layer perceptron solve XOR in Python?"
      ],
      "metadata": {
        "id": "NiVSQeQO0b7r"
      }
    },
    {
      "cell_type": "code",
      "source": [
        "import numpy as np\n",
        "\n",
        "def sigmoid(x):\n",
        "    return 1 / (1 + np.exp(-x))\n",
        "\n",
        "def sigmoid_derivative(x):\n",
        "    return x * (1 - x)\n",
        "\n",
        "class NeuralNetwork:\n",
        "    def __init__(self, x, y):\n",
        "        self.input = x\n",
        "        self.weights1 = np.random.rand(self.input.shape[1], 4)\n",
        "        self.weights2 = np.random.rand(4, 1)\n",
        "        self.y = y\n",
        "        self.output = np.zeros(y.shape)\n",
        "\n",
        "    def feedforward(self):\n",
        "        self.layer1 = sigmoid(np.dot(self.input, self.weights1))\n",
        "        self.output = sigmoid(np.dot(self.layer1, self.weights2))\n",
        "\n",
        "    def backprop(self):\n",
        "        d_weights2 = np.dot(self.layer1.T, 2 * (self.y - self.output) * sigmoid_derivative(self.output))\n",
        "        d_weights1 = np.dot(self.input.T, np.dot(2 * (self.y - self.output) * sigmoid_derivative(self.output), self.weights2.T) * sigmoid_derivative(self.layer1))\n",
        "\n",
        "        self.weights1 += d_weights1\n",
        "        self.weights2 += d_weights2\n",
        "\n",
        "    def train(self, iterations):\n",
        "        for _ in range(iterations):\n",
        "            self.feedforward()\n",
        "            self.backprop()\n",
        "\n",
        "X = np.array([[0, 0, 1, 1],\n",
        "              [0, 1, 0, 1]]).T\n",
        "y = np.array([[0, 1, 1, 0]]).T\n",
        "\n",
        "nn = NeuralNetwork(X, y)\n",
        "nn.train(10000)\n",
        "\n",
        "print(nn.output)"
      ],
      "metadata": {
        "colab": {
          "base_uri": "https://localhost:8080/"
        },
        "id": "-cCqo7ghx3Oq",
        "outputId": "6621a51b-69f2-4f4d-c549-420c2b823ae4"
      },
      "execution_count": 4,
      "outputs": [
        {
          "output_type": "stream",
          "name": "stdout",
          "text": [
            "[[0.01039657]\n",
            " [0.98937737]\n",
            " [0.98968855]\n",
            " [0.01020623]]\n"
          ]
        }
      ]
    },
    {
      "cell_type": "markdown",
      "source": [
        "q5. How can you use Python to visualise the decision boundary of a perceptron model while implementing a NOT logic gate?"
      ],
      "metadata": {
        "id": "TaAuBf8d0je4"
      }
    },
    {
      "cell_type": "code",
      "source": [
        "import numpy as np\n",
        "import matplotlib.pyplot as plt\n",
        "from sklearn.linear_model import Perceptron\n",
        "\n",
        "X = np.array([[0], [1]])\n",
        "y = np.array([1, 0])\n",
        "\n",
        "model = Perceptron()\n",
        "model.fit(X, y)\n",
        "w = model.coef_\n",
        "b = model.intercept_\n",
        "\n",
        "plt.scatter(X, y, color='red', label='Data points')\n",
        "\n",
        "x_range = np.linspace(-0.5, 1.5, 200)\n",
        "\n",
        "decision_boundary = -(b + w[0][0] * x_range)\n",
        "\n",
        "plt.axvline(x=-b / w[0][0], color='blue', linestyle='--', label='Decision boundary')\n",
        "\n",
        "plt.xlabel(\"Input (X)\")\n",
        "plt.ylabel(\"Output (y)\")\n",
        "plt.title(\"Decision Boundary of Perceptron for NOT Logic Gate\")\n",
        "plt.legend()\n",
        "\n",
        "plt.show()\n"
      ],
      "metadata": {
        "colab": {
          "base_uri": "https://localhost:8080/",
          "height": 472
        },
        "id": "5_rOvCeyzkf1",
        "outputId": "c619ab83-bd9f-458f-a49f-07b05ab91b0d"
      },
      "execution_count": 6,
      "outputs": [
        {
          "output_type": "display_data",
          "data": {
            "text/plain": [
              "<Figure size 640x480 with 1 Axes>"
            ],
            "image/png": "[encoded data removed]"
          },
          "metadata": {}
        }
      ]
    },
    {
      "cell_type": "markdown",
      "source": [],
      "metadata": {
        "id": "gwGUunUHz3-b"
      }
    }
  ]
}